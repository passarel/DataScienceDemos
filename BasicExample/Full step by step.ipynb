{
 "cells": [
  {
   "cell_type": "markdown",
   "metadata": {},
   "source": [
    "## Introduction"
   ]
  },
  {
   "cell_type": "code",
   "execution_count": null,
   "metadata": {},
   "outputs": [],
   "source": [
    "from IPython.display import Image\n",
    "Image(\"DS_Pipeline.png\")"
   ]
  },
  {
   "cell_type": "code",
   "execution_count": null,
   "metadata": {},
   "outputs": [],
   "source": [
    "import pandas as pd\n",
    "import matplotlib.pyplot as plt\n",
    "import seaborn\n",
    "\n",
    "from sklearn import preprocessing\n",
    "from collections import Counter"
   ]
  },
  {
   "cell_type": "markdown",
   "metadata": {},
   "source": [
    "## Defining the problem - loading the data:"
   ]
  },
  {
   "cell_type": "code",
   "execution_count": null,
   "metadata": {},
   "outputs": [],
   "source": [
    "full_adult_df = pd.read_csv(\"adult.csv\")"
   ]
  },
  {
   "cell_type": "markdown",
   "metadata": {},
   "source": [
    "## Problem description\n",
    "\n",
    "In the beginning of a data analysis process, it is crucial to understand the problem that needs to be solved, identifying variables (columns), data types, inputs and outputs.\n",
    "\n",
    "For this dataset, the goal is to learn whether a person's salary (output) is higher than $50K, relying only on other personal informations (inputs). As we have 2 possible values for output, this is considered a traditional 2-class classification problem. Our inputs are as follows:\n",
    "* age (integer)\n",
    "* workclass (categorical)\n",
    "* fnlwgt (numeric)\n",
    "* education (categorical)\n",
    "* education-num (number of years of education - integer)\n",
    "* marital-status (categorical)\n",
    "* occupation (categorical)\n",
    "* relationship (categorical)\n",
    "* race (categorical)\n",
    "* sex (categorical)\n",
    "* capital-gain (numeric)\n",
    "* capital-loss (numeric)\n",
    "* hours-per-week (numeric)\n",
    "* native-country (categorical)\n",
    "\n",
    "The output is binary, as mentioned before:\n",
    "* salary (binary: true if higher than $50K)\n",
    "\n"
   ]
  },
  {
   "cell_type": "code",
   "execution_count": null,
   "metadata": {},
   "outputs": [],
   "source": [
    "print(full_adult_df.dtypes)\n",
    "\n",
    "numeric_inputs = [\"age\", \"capital-gain\", \"capital-loss\", \"hours-per-week\"]\n",
    "categoric_inputs = [\"workclass\", \"education\", \"marital-status\", \"occupation\", \"relationship\", \"race\", \"sex\", \"native-country\"]\n",
    "outputs = [\"salary\"]"
   ]
  },
  {
   "cell_type": "code",
   "execution_count": null,
   "metadata": {},
   "outputs": [],
   "source": [
    "full_adult_df"
   ]
  },
  {
   "cell_type": "markdown",
   "metadata": {},
   "source": [
    "## EDA (Exploratory Data Analysis)"
   ]
  },
  {
   "cell_type": "code",
   "execution_count": null,
   "metadata": {},
   "outputs": [],
   "source": [
    "%matplotlib inline\n",
    "seaborn.pairplot(full_adult_df[numeric_inputs])"
   ]
  },
  {
   "cell_type": "code",
   "execution_count": null,
   "metadata": {},
   "outputs": [],
   "source": [
    "categoric_count = {}\n",
    "for column in categoric_inputs:\n",
    "    categoric_count[column] = Counter(full_adult_df[column])\n",
    "\n",
    "fig, ax = plt.subplots(3, 3, figsize = (14, 6))\n",
    "\n",
    "for i in range(0, len(categoric_inputs)):\n",
    "    column = categoric_inputs[i]\n",
    "    ax[int(i / 3)][i % 3].pie(categoric_count[column].values(), labels = categoric_count[column].keys())\n",
    "    \n",
    "plt.plot()\n",
    "\n",
    "\n",
    "    \n",
    "\n",
    "\n",
    "\n"
   ]
  },
  {
   "cell_type": "markdown",
   "metadata": {},
   "source": [
    "## Preprocessing"
   ]
  },
  {
   "cell_type": "code",
   "execution_count": null,
   "metadata": {
    "tags": []
   },
   "outputs": [],
   "source": [
    "normalizer = preprocessing.MinMaxScaler() \n",
    "normalized_df = normalizer.fit_transform(full_adult_df[numeric_inputs])\n",
    "normalized_df = pd.DataFrame(normalized_df)\n",
    "print(normalized_df.head())\n",
    "normalized_df.columns = numeric_inputs\n",
    "print(normalized_df.head())"
   ]
  },
  {
   "cell_type": "code",
   "execution_count": null,
   "metadata": {},
   "outputs": [],
   "source": [
    "label_encoder = preprocessing.LabelEncoder()\n",
    "one_hot_encoder = preprocessing.OneHotEncoder(sparse = False)\n",
    "\n",
    "full_processed_df = normalized_df.copy()\n",
    "\n",
    "for column in categoric_inputs:\n",
    "    values = sorted(categoric_count[column].keys())\n",
    "    col_names = []\n",
    "    for value in values:\n",
    "        col_names.append(column + value)\n",
    "    label_encoded_df = label_encoder.fit_transform(full_adult_df[column])\n",
    "    one_hot_df = label_encoded_df.reshape(len(label_encoded_df), 1)\n",
    "    one_hot_df = one_hot_encoder.fit_transform(one_hot_df)\n",
    "    one_hot_df = pd.DataFrame(one_hot_df)\n",
    "    one_hot_df.columns = col_names\n",
    "    full_processed_df = full_processed_df.join(one_hot_df)\n",
    "    \n"
   ]
  },
  {
   "cell_type": "code",
   "execution_count": null,
   "metadata": {},
   "outputs": [],
   "source": [
    "label_encoder = preprocessing.LabelEncoder()\n",
    "\n",
    "output_df = label_encoder.fit_transform(full_adult_df[\"salary\"])"
   ]
  },
  {
   "cell_type": "markdown",
   "metadata": {},
   "source": [
    "## Splitting training and test"
   ]
  },
  {
   "cell_type": "code",
   "execution_count": null,
   "metadata": {},
   "outputs": [],
   "source": [
    "from sklearn.model_selection import train_test_split\n",
    "x_train, x_test, y_train, y_test = train_test_split(full_processed_df, full_adult_df[\"salary\"], train_size = 0.80)"
   ]
  },
  {
   "cell_type": "code",
   "execution_count": null,
   "metadata": {},
   "outputs": [],
   "source": [
    "from sklearn.metrics import confusion_matrix, accuracy_score, precision_recall_fscore_support\n",
    "import scikitplot as skplt\n",
    "import mlflow\n",
    "\n",
    "experiment_name = \"demo_adult\"\n",
    "\n",
    "experiment = mlflow.get_experiment_by_name(experiment_name)\n",
    "if experiment is None:\n",
    "    experiment_id = mlflow.create_experiment(experiment_name)\n",
    "else:\n",
    "    experiment_id = experiment.experiment_id\n",
    "\n"
   ]
  },
  {
   "cell_type": "markdown",
   "metadata": {},
   "source": [
    "## Training the models\n",
    "\n",
    "### First attempt: KNN"
   ]
  },
  {
   "cell_type": "code",
   "execution_count": null,
   "metadata": {},
   "outputs": [],
   "source": [
    "from sklearn.neighbors import KNeighborsClassifier\n",
    "with mlflow.start_run(experiment_id = experiment_id):\n",
    "    number_of_neighbours = 7\n",
    "    knn_classifier = KNeighborsClassifier(number_of_neighbours)\n",
    "    knn_classifier.fit(x_train, y_train)\n",
    "    y_train_predict = knn_classifier.predict(x_train)\n",
    "    y_predict = knn_classifier.predict(x_test)\n",
    "    mlflow.log_param(\"Approach\", \"KNN\")\n",
    "    mlflow.log_param(\"Number of Neighbours\", number_of_neighbours)\n",
    "    mlflow.log_metric(\"Training accuracy\", accuracy_score(y_train, y_train_predict))\n",
    "    mlflow.log_metric(\"Accuracy\", accuracy_score(y_test, y_predict))\n",
    "    skplt.metrics.plot_confusion_matrix(y_test, y_predict)"
   ]
  },
  {
   "cell_type": "code",
   "execution_count": null,
   "metadata": {},
   "outputs": [],
   "source": [
    "precision_recall_fscore_support(y_test, y_predict)"
   ]
  },
  {
   "cell_type": "markdown",
   "metadata": {},
   "source": [
    "### Second attempt: Decision trees"
   ]
  },
  {
   "cell_type": "code",
   "execution_count": null,
   "metadata": {},
   "outputs": [],
   "source": [
    "from sklearn.tree import DecisionTreeClassifier \n",
    "with mlflow.start_run(experiment_id = experiment_id):\n",
    "    depth = 6\n",
    "    dt_classifier = DecisionTreeClassifier(max_depth = depth) \n",
    "    \n",
    "    dt_classifier.fit(x_train, y_train)\n",
    "    y_train_predict = dt_classifier.predict(x_train)\n",
    "    y_predict = dt_classifier.predict(x_test)\n",
    "    mlflow.log_param(\"Approach\", \"Decision Tree\")\n",
    "    mlflow.log_param(\"Tree Height\", depth)\n",
    "    mlflow.log_metric(\"Training accuracy\", accuracy_score(y_train, y_train_predict))\n",
    "    mlflow.log_metric(\"Accuracy\", accuracy_score(y_test, y_predict))\n",
    "    skplt.metrics.plot_confusion_matrix(y_test, y_predict)\n"
   ]
  },
  {
   "cell_type": "code",
   "execution_count": null,
   "metadata": {},
   "outputs": [],
   "source": [
    "precision_recall_fscore_support(y_test, y_predict)"
   ]
  },
  {
   "cell_type": "markdown",
   "metadata": {},
   "source": [
    "### Third attempt: Random Forest"
   ]
  },
  {
   "cell_type": "code",
   "execution_count": null,
   "metadata": {},
   "outputs": [],
   "source": [
    "from sklearn.ensemble import RandomForestClassifier\n",
    "rf_classifier = RandomForestClassifier(10) \n",
    "rf_classifier.fit(x_train, y_train)\n",
    "y_predict = rf_classifier.predict(x_test)\n",
    "skplt.metrics.plot_confusion_matrix(y_test, y_predict)\n",
    "print(accuracy_score(y_test, y_predict))"
   ]
  },
  {
   "cell_type": "code",
   "execution_count": null,
   "metadata": {},
   "outputs": [],
   "source": [
    "precision_recall_fscore_support(y_test, y_predict)"
   ]
  },
  {
   "cell_type": "markdown",
   "metadata": {},
   "source": [
    "### Fourth attempt: Support Vector Machines"
   ]
  },
  {
   "cell_type": "code",
   "execution_count": null,
   "metadata": {},
   "outputs": [],
   "source": [
    "from sklearn.svm import SVC\n",
    "svm_classifier = SVC()\n",
    "svm_classifier.fit(x_train, y_train)\n",
    "y_predict = svm_classifier.predict(x_test)\n",
    "print(accuracy_score(y_test, y_predict))"
   ]
  }
 ],
 "metadata": {
  "kernelspec": {
   "display_name": "Python 3 (ipykernel)",
   "language": "python",
   "name": "python3"
  },
  "language_info": {
   "codemirror_mode": {
    "name": "ipython",
    "version": 3
   },
   "file_extension": ".py",
   "mimetype": "text/x-python",
   "name": "python",
   "nbconvert_exporter": "python",
   "pygments_lexer": "ipython3",
   "version": "3.10.4"
  }
 },
 "nbformat": 4,
 "nbformat_minor": 4
}
